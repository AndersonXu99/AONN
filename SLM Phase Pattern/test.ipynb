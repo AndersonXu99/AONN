{
 "cells": [
  {
   "cell_type": "code",
   "execution_count": 6,
   "metadata": {},
   "outputs": [],
   "source": [
    "import numpy as np\n",
    "import matplotlib.pyplot as plt\n",
    "from GS_algorithm_first_iteration import gsw_output\n",
    "from GS_algorithm2 import *\n",
    "from SLM_Control import *\n",
    "from showSLMPreview import showSLMPreview\n",
    "from dcam_live_capturing import *\n",
    "from beam_locator import *\n",
    "import time\n",
    "import cv2"
   ]
  },
  {
   "cell_type": "code",
   "execution_count": 8,
   "metadata": {},
   "outputs": [],
   "source": [
    "slm = SLMControler()"
   ]
  },
  {
   "cell_type": "markdown",
   "metadata": {},
   "source": [
    "### Initialize camera and capture the background intensity \n",
    "\n",
    "To capture the background please block the laser beam"
   ]
  },
  {
   "cell_type": "code",
   "execution_count": 3,
   "metadata": {},
   "outputs": [],
   "source": [
    "dcam_capture = DcamLiveCapturing(iDevice = 0)"
   ]
  },
  {
   "cell_type": "markdown",
   "metadata": {},
   "source": [
    "### Background intensity\n",
    "Block the laser before you take the measurement"
   ]
  },
  {
   "cell_type": "code",
   "execution_count": 4,
   "metadata": {},
   "outputs": [
    {
     "name": "stdout",
     "output_type": "stream",
     "text": [
      "-NG: Dcamapi.init() fails with error -2147483130\n",
      "Background captured None\n"
     ]
    }
   ],
   "source": [
    "background = dcam_capture.capture_single_frame()\n",
    "\n",
    "print(\"Background captured\", background)"
   ]
  },
  {
   "cell_type": "markdown",
   "metadata": {},
   "source": [
    "### First iteration of GSW without feedback"
   ]
  },
  {
   "cell_type": "code",
   "execution_count": null,
   "metadata": {},
   "outputs": [],
   "source": [
    "### Initilization ###\n",
    "number_of_rows = 2\n",
    "number_of_columns = 2\n",
    "# weight = np.ones(number_of_columns * number_of_rows) / (number_of_columns * number_of_rows)\n",
    "weight = np.array([0.25, 0.25, 0.25, 0.25])\n",
    "w0 = 1\n",
    "interval = 200\n",
    "error_allowed = 0.01 \n",
    "Dim = np.array([2, 2])\n",
    "#####################\n",
    "\n",
    "# size_real = np.array([1920, 1080]) \n",
    "# using the HOLOEYE GAEA-2, the resolution is 3840 x 2160\n",
    "size_real = np.array([3840, 2160])\n",
    "Overall_Pattern = np.zeros((2160, 3840), dtype=np.float64)\n",
    "\n",
    "error = 1\n",
    "\n",
    "size_real = size_real / Dim \n",
    "size_real = size_real.astype(int)\n",
    "temp = np.zeros(number_of_columns * number_of_rows)\n",
    "temp[:len(weight)] = weight  \n",
    "weight_shaped = np.reshape(temp, (number_of_columns, number_of_rows))\n",
    "weight_shaped = np.flipud(weight_shaped)\n",
    "\n",
    "Pattern1 = np.zeros((2160, 3840), dtype=np.float64)\n",
    "\n",
    "for part in range(1, 5):\n",
    "    # since we are not improving, we are only iterating over this 2 times, first time to use the gsw_output function, and second time to use the gs_iteration_modified function\n",
    "    for iteration in range (0, 2):\n",
    "        balance = 0\n",
    "        if iteration == 0:\n",
    "            [Pattern_part, phi] = gsw_output(size_real, weight_shaped, interval, number_of_rows, number_of_columns, w0, 0)\n",
    "            Pattern_last = phi\n",
    "        else:\n",
    "            [Pattern_part, phi] = gs_iteration_modified(size_real, weight_shaped, interval, Pattern_last, balance, w0)\n",
    "            Pattern_last = phi\n",
    "\n",
    "    \n",
    "    x = int(Dim[0] - 1 - np.mod(part - 1, Dim[0]))\n",
    "    y = int(np.floor((part - 1) / Dim[0]))  \n",
    "\n",
    "    start_x = x * size_real[0]\n",
    "    end_x = (x+1) * size_real[0]\n",
    "    start_y = y * size_real[1]\n",
    "    end_y = (y+1) * size_real[1]\n",
    " \n",
    "    Pattern1[start_y : end_y, start_x : end_x] = Pattern_part\n",
    "\n",
    "# divide each value in Pattern by 2 * pi\n",
    "Pattern1 = np.mod(Pattern1, 2 * np.pi)"
   ]
  },
  {
   "cell_type": "markdown",
   "metadata": {},
   "source": [
    "### Run the beam locator to find the locations of all beams"
   ]
  },
  {
   "cell_type": "markdown",
   "metadata": {},
   "source": [
    "Loading the beam locator class and display the generated pattern on the SLM"
   ]
  },
  {
   "cell_type": "code",
   "execution_count": null,
   "metadata": {},
   "outputs": [],
   "source": [
    "class beam_locator:\n",
    "    def __init__(self, image, number_of_rows, number_of_cols):\n",
    "        self.image = image\n",
    "        self.cursor_locations = [(1000, 100), (1700, 100), (200, 200), (100, 1700)]  # Initialize cursor locations\n",
    "        self.dragging = False\n",
    "        self.current_cursor = None\n",
    "        self.crosshair_length = 40  # Set the length of the crosshair lines\n",
    "        self.rows = number_of_rows\n",
    "        self.cols = number_of_cols\n",
    "        # initialize all the beam corners\n",
    "        self.total_num_beams = self.rows * self.cols\n",
    "        self.beam_corners = np.zeros((self.total_num_beams, 2, 2), dtype=float)\n",
    "\n",
    "    def draw_crosshair(self, img, center):\n",
    "        # Draw vertical line\n",
    "        cv2.line(img, (center[0], center[1] - self.crosshair_length // 2),\n",
    "                 (center[0], center[1] + self.crosshair_length // 2), (0, 255, 0), 2)\n",
    "        # Draw horizontal line\n",
    "        cv2.line(img, (center[0] - self.crosshair_length // 2, center[1]),\n",
    "                 (center[0] + self.crosshair_length // 2, center[1]), (0, 255, 0), 2)\n",
    "\n",
    "    def display_image_with_crosshairs(self):\n",
    "        cv2.namedWindow('Image with Crosshairs', cv2.WINDOW_NORMAL)  # Resizable window\n",
    "\n",
    "        while True:\n",
    "            img = self.image.copy()\n",
    "\n",
    "            # Normalize the image to uint8 if it is uint16\n",
    "            if img.dtype == np.uint16:\n",
    "                img = cv2.convertScaleAbs(img, alpha=(255.0/65535.0))\n",
    "\n",
    "            if len(img.shape) == 2:  # Check if the image is grayscale\n",
    "                img = cv2.cvtColor(img, cv2.COLOR_GRAY2BGR)\n",
    "\n",
    "            # Draw crosshairs at cursor locations\n",
    "            for loc in self.cursor_locations:\n",
    "                self.draw_crosshair(img, loc)\n",
    "\n",
    "            cv2.imshow('Image with Crosshairs', img)\n",
    "\n",
    "            # Set mouse callback function\n",
    "            cv2.setMouseCallback('Image with Crosshairs', self.mouse_callback)\n",
    "\n",
    "            key = cv2.waitKey(1) & 0xFF\n",
    "            if key == ord('q'):\n",
    "                break\n",
    "\n",
    "        cv2.destroyAllWindows()\n",
    "\n",
    "    def mouse_callback(self, event, x, y, flags, param):\n",
    "        if event == cv2.EVENT_LBUTTONDOWN:\n",
    "            # Check if cursor is clicked\n",
    "            for idx, loc in enumerate(self.cursor_locations):\n",
    "                if abs(loc[0] - x) < self.crosshair_length // 2 and abs(loc[1] - y) < self.crosshair_length // 2:\n",
    "                    self.dragging = True\n",
    "                    self.current_cursor = idx\n",
    "                    break\n",
    "        elif event == cv2.EVENT_MOUSEMOVE:\n",
    "            # Update cursor location if dragging\n",
    "            if self.dragging:\n",
    "                self.cursor_locations[self.current_cursor] = (x, y)\n",
    "\n",
    "        elif event == cv2.EVENT_LBUTTONUP:\n",
    "            # Stop dragging\n",
    "            self.dragging = False\n",
    "            self.current_cursor = None\n",
    "\n",
    "    def get_cursor_locations(self):\n",
    "        # sort the cursor locations in the following order, top left, top right, bottom left, bottom right\n",
    "        self.cursor_locations = sorted(self.cursor_locations, key=lambda x: x[0])\n",
    "        self.cursor_locations = sorted(self.cursor_locations, key=lambda x: x[1])\n",
    "\n",
    "        return self.cursor_locations\n",
    "\n",
    "    def calculate_all_beam_locations(self):\n",
    "        # from the first and third elements of the cursor_locations list, we can calculate the diameter of a beam\n",
    "        # the first element of the array is the top left of the beam and the third element represents the bottom right corner of the beam\n",
    "        self.beam_diameter = np.sqrt((self.cursor_locations[2][0] - self.cursor_locations[0][0])**2 + (self.cursor_locations[2][1] - self.cursor_locations[0][1])**2)\n",
    "        print(\"Beam Diameter:\", self.beam_diameter)\n",
    "\n",
    "        # from the first and second element of the list, these are the top left corners of the top left most and top right most beams\n",
    "        # find the horizontal intervals of all beams\n",
    "        self.horizontal_intervals = (self.cursor_locations[1][0] - self.cursor_locations[0][0]) / (self.cols - 1)\n",
    "        # now to find the vertical intervals\n",
    "        self.vertical_intervals = (self.cursor_locations[3][1] - self.cursor_locations[0][1]) / (self.rows - 1)\n",
    "\n",
    "        self.horizontal_rise = (self.cursor_locations[1][1] - self.cursor_locations[0][1]) / (self.cols - 1)\n",
    "        self.vertical_shift = (self.cursor_locations[3][0] - self.cursor_locations[0][0]) / (self.rows - 1)\n",
    "\n",
    "        # now from these horizontal and vertical intervals, we can calculate the top left corners of all 25 beams and create a box using the diameter calculated as well\n",
    "        # store the corners in a 25 x 4 array, for each beam, store the four corners of the box\n",
    "\n",
    "        # Iterate over the rows\n",
    "        for i in range(self.rows):\n",
    "            # Iterate over the columns\n",
    "            for j in range(self.cols):\n",
    "                # Calculate the top left corner of the current box\n",
    "                top_left = [self.cursor_locations[0][0] + j * self.horizontal_intervals + i * self.vertical_shift, self.cursor_locations[0][1] + i * self.vertical_intervals + j * self.horizontal_rise]\n",
    "                \n",
    "                # Calculate the bottom right corner\n",
    "                bottom_right = [top_left[0] + self.beam_diameter, top_left[1] + self.beam_diameter]\n",
    "                \n",
    "                # Store the corners in the array\n",
    "                self.beam_corners[i * self.rows + j] = [top_left, bottom_right]\n",
    "\n",
    "slm.display_data(Pattern1)"
   ]
  },
  {
   "cell_type": "markdown",
   "metadata": {},
   "source": [
    "Capturing a single frame, and running the beam locator function. \n",
    "\n",
    "Drag the cursors to the top left, bottom right corner of the top left beam; the top left corner of the top right beam; and the top left corner of the bottom left beam. After you have placed the cursors in the appropriate locations, pressure \"q\" on the keyboard to close the window. "
   ]
  },
  {
   "cell_type": "code",
   "execution_count": null,
   "metadata": {},
   "outputs": [],
   "source": [
    "captured_image = dcam_capture.capture_single_frame()\n",
    "\n",
    "# Check if an image was captured\n",
    "if captured_image is not None:\n",
    "    # # Create a resizable window\n",
    "    # cv2.namedWindow(\"Captured Image\", cv2.WINDOW_NORMAL)\n",
    "\n",
    "    # # Display the captured image using OpenCV\n",
    "    # cv2.imshow(\"Captured Image\", captured_image)\n",
    "    \n",
    "    # while True:\n",
    "    #     if cv2.waitKey(1) & 0xFF == ord('q') or cv2.getWindowProperty(\"Captured Image\", cv2.WND_PROP_VISIBLE) < 1:\n",
    "    #         break\n",
    "    # cv2.destroyAllWindows()  # Close the window\n",
    "\n",
    "    locator = beam_locator(captured_image, number_of_rows, number_of_columns)\n",
    "\n",
    "    # Display image with crosshairs and allow user interaction\n",
    "    locator.display_image_with_crosshairs()\n",
    "\n",
    "    # Get cursor locations\n",
    "    cursor_locations = locator.get_cursor_locations()\n",
    "\n",
    "    locator.calculate_all_beam_locations()\n",
    "\n",
    "    beam_corners = locator.beam_corners\n",
    "\n",
    "    # store them in a file\n",
    "    with open(\"beam_corners.txt\", \"w\") as f:\n",
    "        for loc in beam_corners:\n",
    "            top_left, bottom_right = loc\n",
    "            f.write(f\"{top_left[0]}, {top_left[1]}, {bottom_right[0]}, {bottom_right[1]}\\n\")\n",
    "else:\n",
    "    print(\"No image captured.\")"
   ]
  },
  {
   "cell_type": "markdown",
   "metadata": {},
   "source": [
    "To double check that all the beam corners have been calculated. these values can also be read in the beam_corner.txt file in the directory"
   ]
  },
  {
   "cell_type": "code",
   "execution_count": null,
   "metadata": {},
   "outputs": [],
   "source": [
    "# for debugging purposes\n",
    "print(\"Beam Corners:\", beam_corners)"
   ]
  },
  {
   "cell_type": "markdown",
   "metadata": {},
   "source": [
    "### Function to measure the intensity of each beam"
   ]
  },
  {
   "cell_type": "code",
   "execution_count": null,
   "metadata": {},
   "outputs": [],
   "source": [
    "image = captured_image - background\n",
    "\n",
    "def measure_greyscale_intensity(image, beam_corners):\n",
    "    \"\"\"\n",
    "    Measures the grayscale intensity inside the rectangles described by the coordinates in beam_corners.\n",
    "\n",
    "    Parameters:\n",
    "    image (numpy.ndarray): The input image.\n",
    "    beam_corners (list): A list of tuples, where each tuple contains two pairs of coordinates\n",
    "                         (top-left and bottom-right) of a beam.\n",
    "\n",
    "    Returns:\n",
    "    intensities (list): A list of average grayscale intensities for each beam.\n",
    "    \"\"\"\n",
    "    intensities = []\n",
    "\n",
    "    for top_left, bottom_right in beam_corners:\n",
    "        x1, y1 = map(int, top_left)\n",
    "        x2, y2 = map(int, bottom_right)\n",
    "        roi = image[y1:y2, x1:x2]\n",
    "        average_intensity = np.mean(roi)\n",
    "        intensities.append(average_intensity)\n",
    "\n",
    "    return intensities\n",
    "\n",
    "# for testing purposes\n",
    "# Measure the grayscale intensity inside the rectangles described by the beam corners\n",
    "intensities = measure_greyscale_intensity(image, beam_corners)\n",
    "\n",
    "print(\"Grayscale Intensities for Each Beam:\")\n",
    "for idx, intensity in enumerate(intensities):\n",
    "    print(f\"Beam {idx + 1}: {intensity}\")"
   ]
  },
  {
   "cell_type": "markdown",
   "metadata": {},
   "source": [
    "### Function used to place the generated phase pattern in respective location in the overall phase pattern"
   ]
  },
  {
   "cell_type": "code",
   "execution_count": null,
   "metadata": {},
   "outputs": [],
   "source": [
    "def pattern_placement(part, Pattern, Pattern_part):\n",
    "    x = int(Dim[0] - 1 - np.mod(part - 1, Dim[0]))\n",
    "    y = int(np.floor((part - 1) / Dim[0]))  \n",
    "\n",
    "    start_x = x * size_real[0]\n",
    "    end_x = (x+1) * size_real[0]\n",
    "    start_y = y * size_real[1]\n",
    "    end_y = (y+1) * size_real[1]\n",
    " \n",
    "    Pattern[start_y : end_y, start_x : end_x] = Pattern_part\n",
    "    return Pattern"
   ]
  },
  {
   "cell_type": "code",
   "execution_count": null,
   "metadata": {},
   "outputs": [],
   "source": [
    "part = 1\n",
    "\n",
    "[Pattern_part, phi] = gsw_output(size_real, weight_shaped, interval, number_of_rows, number_of_columns, w0, 0)\n",
    "Pattern_last = phi\n",
    "\n",
    "Pattern = np.zeros((2160, 3840), dtype=np.float64)\n",
    "\n",
    "# placing the pattern at the correct location on the whole SLM phase pattern\n",
    "Pattern = pattern_placement(part, Pattern, Pattern_part)   \n",
    "Pattern = np.mod(Pattern, 2 * np.pi)\n",
    "\n",
    "# now we want to display the pattern on the SLM and capture an image of it\n",
    "slm.display_data(Pattern)\n",
    "\n",
    "# time delay of 1 seconds \n",
    "time.sleep(1)\n",
    "\n",
    "# capture an image of the SLM\n",
    "captured_image = dcam_capture.capture_single_frame()\n",
    "\n",
    "# subtract the background image from the captured image\n",
    "captured_image = captured_image - background\n",
    "\n",
    "# calculate the intensity of each beam using the locations found and stored in a file\n",
    "measured_intensities = measure_greyscale_intensity(captured_image, beam_corners)"
   ]
  },
  {
   "cell_type": "code",
   "execution_count": null,
   "metadata": {},
   "outputs": [],
   "source": [
    "print(\"Average Grayscale Intensities for Each Beam:\")\n",
    "for idx, intensity in enumerate(measured_intensities):\n",
    "    print(f\"Beam {idx + 1}: {intensity}\")"
   ]
  },
  {
   "cell_type": "markdown",
   "metadata": {},
   "source": [
    "### Rescale the beam intensities"
   ]
  },
  {
   "cell_type": "code",
   "execution_count": null,
   "metadata": {},
   "outputs": [],
   "source": [
    "rescale = 2e-4"
   ]
  },
  {
   "cell_type": "code",
   "execution_count": null,
   "metadata": {},
   "outputs": [],
   "source": [
    "# scale down the measured intensities\n",
    "intensities = [intensity * rescale for intensity in measured_intensities]\n",
    "\n",
    "# calculate the std error\n",
    "std_error = np.std(np.abs(weight - intensities))\n",
    "print(\"std Error:\", std_error)\n",
    "\n",
    "# calculate the mean error\n",
    "mean_error = np.mean(np.abs(weight - intensities))\n",
    "print(\"mean Error:\", mean_error)"
   ]
  },
  {
   "cell_type": "markdown",
   "metadata": {},
   "source": [
    "### Running the GSW algorithm"
   ]
  },
  {
   "cell_type": "code",
   "execution_count": null,
   "metadata": {},
   "outputs": [],
   "source": [
    "captured_image = dcam_capture.capture_single_frame()"
   ]
  },
  {
   "cell_type": "code",
   "execution_count": null,
   "metadata": {},
   "outputs": [],
   "source": [
    "from GS_algorithm2 import *\n",
    "\n",
    "# for part in range(1, 145):\n",
    "for part in range(1,5):\n",
    "\n",
    "    # for each part, we are only concerned with that specific part and the rest of the phase pattern would be zero\n",
    "    # so we first initialize a phase pattern with all zeros\n",
    "    Pattern = np.zeros((2160, 3840), dtype=np.float64)\n",
    "\n",
    "    # maximum of 80 iterations\n",
    "    for iteration in range (0, 81):\n",
    "\n",
    "        if error < error_allowed:\n",
    "            break\n",
    "\n",
    "        if iteration == 0:\n",
    "            e = 0\n",
    "            [Pattern_part, phi] = gsw_output(size_real, weight_shaped, interval, number_of_rows, number_of_columns, w0, e)\n",
    "            Pattern_last = phi\n",
    "\n",
    "            # placing the pattern at the correct location on the whole SLM phase pattern\n",
    "            Pattern = pattern_placement(part, Pattern, Pattern_part)   \n",
    "            Pattern = np.mod(Pattern, 2 * np.pi)\n",
    "\n",
    "            # now we want to display the pattern on the SLM and capture an image of it\n",
    "            slm.display_data(Pattern)\n",
    "\n",
    "            # time delay of 1 seconds \n",
    "            time.sleep(1)\n",
    "\n",
    "            # capture an image of the SLM\n",
    "            captured_image = dcam_capture.capture_single_frame()\n",
    "            \n",
    "            # subtract the background image from the captured image\n",
    "            captured_image = captured_image - background\n",
    "            \n",
    "\n",
    "            # calculate the intensity of each beam using the locations found and stored in a file\n",
    "            intensities = measure_greyscale_intensity(captured_image, beam_corners)\n",
    "            # scale down the measured intensities\n",
    "            intensities = [intensity * rescale for intensity in intensities]\n",
    "\n",
    "            # print(\"Average Grayscale Intensities for Each Beam:\", intensities)\n",
    "\n",
    "            # calculate the std error\n",
    "            std_error = np.std(np.abs(weight - intensities))\n",
    "            print(\"std Error:\", std_error)\n",
    "\n",
    "            # calculate the mean error\n",
    "            mean_error = np.mean(np.abs(weight - intensities))\n",
    "            print(\"Mean Error:\", mean_error)\n",
    "\n",
    "        else:\n",
    "            [Pattern_part, phi] = gsw_output(size_real, weight_shaped, interval, number_of_rows, number_of_columns, w0, mean_error)\n",
    "            Pattern_last = phi\n",
    "\n",
    "            Pattern = pattern_placement(part, Pattern, Pattern_part)\n",
    "\n",
    "            Pattern = np.mod(Pattern, 2 * np.pi)\n",
    "\n",
    "            # now we want to display the pattern on the SLM and capture an image of it\n",
    "            slm.display_data(Pattern)\n",
    "\n",
    "            # time delay of 1 seconds \n",
    "            time.sleep(1)\n",
    "\n",
    "            # capture an image of the SLM\n",
    "            captured_image = dcam_capture.capture_single_frame()\n",
    "\n",
    "            time.sleep(1)\n",
    "            \n",
    "            # subtract the background image from the captured image\n",
    "            captured_image = captured_image - background\n",
    "\n",
    "            # calculate the intensity of each beam using the locations found and stored in a file\n",
    "            intensities = measure_greyscale_intensity(captured_image, beam_corners)\n",
    "\n",
    "            # scale down the measured intensities\n",
    "            intensities = [intensity * rescale for intensity in intensities]\n",
    "\n",
    "            # print(\"Average Grayscale Intensities for Each Beam:\", intensities)\n",
    "\n",
    "            # calculate the std error\n",
    "            std_error = np.std(np.abs(weight - intensities))\n",
    "            print(\"std Error:\", std_error)\n",
    "\n",
    "            # calculate the mean error\n",
    "            mean_error = np.mean(np.abs(weight - intensities))\n",
    "            print(\"Mean Error:\", mean_error)\n"
   ]
  },
  {
   "cell_type": "code",
   "execution_count": null,
   "metadata": {},
   "outputs": [],
   "source": [
    "captured_image = dcam_capture.capture_single_frame()\n",
    "\n",
    "time.sleep(1)\n",
    "\n",
    "# subtract the background image from the captured image\n",
    "captured_image = captured_image - background\n",
    "\n",
    "# calculate the intensity of each beam using the locations found and stored in a file\n",
    "intensities = measure_greyscale_intensity(captured_image, beam_corners)\n",
    "\n",
    "# scale down the measured intensities\n",
    "intensities = [intensity * rescale for intensity in measured_intensities]\n",
    "\n",
    "# calculate the std error\n",
    "std_error = np.std(np.abs(weight - intensities))\n",
    "print(\"std Error:\", std_error)\n",
    "\n",
    "# calculate the mean error\n",
    "mean_error = np.mean(np.abs(weight - intensities))\n",
    "print(\"mean Error:\", mean_error)"
   ]
  },
  {
   "cell_type": "code",
   "execution_count": null,
   "metadata": {},
   "outputs": [],
   "source": [
    "captured_image = dcam_capture.capture_live_images()"
   ]
  }
 ],
 "metadata": {
  "kernelspec": {
   "display_name": "Python 3",
   "language": "python",
   "name": "python3"
  },
  "language_info": {
   "codemirror_mode": {
    "name": "ipython",
    "version": 3
   },
   "file_extension": ".py",
   "mimetype": "text/x-python",
   "name": "python",
   "nbconvert_exporter": "python",
   "pygments_lexer": "ipython3",
   "version": "3.9.13"
  }
 },
 "nbformat": 4,
 "nbformat_minor": 2
}
