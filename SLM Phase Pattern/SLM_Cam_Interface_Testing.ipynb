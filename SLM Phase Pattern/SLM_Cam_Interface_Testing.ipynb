{
 "cells": [
  {
   "cell_type": "code",
   "execution_count": null,
   "metadata": {},
   "outputs": [],
   "source": [
    "import numpy as np\n",
    "import matplotlib.pyplot as plt\n",
    "from GS_algorithm_first_iteration import gsw_output\n",
    "from GS_algorithm2 import *\n",
    "from SLM_Control import *\n",
    "from showSLMPreview import showSLMPreview\n",
    "from dcam_live_capturing import *"
   ]
  },
  {
   "cell_type": "code",
   "execution_count": null,
   "metadata": {},
   "outputs": [],
   "source": []
  }
 ],
 "metadata": {
  "language_info": {
   "name": "python"
  }
 },
 "nbformat": 4,
 "nbformat_minor": 2
}
