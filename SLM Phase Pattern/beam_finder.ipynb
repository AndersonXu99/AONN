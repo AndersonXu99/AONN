{
 "cells": [
  {
   "cell_type": "markdown",
   "metadata": {},
   "source": [
    "### Impots"
   ]
  },
  {
   "cell_type": "code",
   "execution_count": 1,
   "metadata": {},
   "outputs": [],
   "source": [
    "# This program is used to locate all the beams from the captured image which will be used for the GS Algorithm\n",
    "# import libraries needed\n",
    "import cv2\n",
    "import numpy as np\n",
    "import matplotlib.pyplot as plt\n",
    "import os\n",
    "import sys"
   ]
  },
  {
   "cell_type": "markdown",
   "metadata": {},
   "source": [
    "### User Input Section"
   ]
  },
  {
   "cell_type": "code",
   "execution_count": null,
   "metadata": {},
   "outputs": [],
   "source": [
    "# indicate the number of rows and cols \n",
    "rows = 5\n",
    "cols = 5\n",
    "\n",
    "# indicate the file path to the captured image\n",
    "file_path = r\"this is a file path\""
   ]
  },
  {
   "cell_type": "markdown",
   "metadata": {},
   "source": [
    "### Main Section"
   ]
  },
  {
   "cell_type": "code",
   "execution_count": null,
   "metadata": {},
   "outputs": [],
   "source": [
    "# read the image\n",
    "image = cv2.imread(file_path, cv2.IMREAD_GRAYSCALE)\n",
    "if image is None:\n",
    "    print(\"Error: Image not found.\")\n",
    "    exit()\n",
    "\n",
    "# show the image read in a new window and now the user needs to click on the image to indicate four points\n",
    "# methods to read the coordniates of the points clicked by the user\n",
    "# when the user is finished, the user can press q to close the window\n",
    "\n",
    "# the first element in the array would be the top left corner of the top left most beam\n",
    "# the second element would be the bottom right corner of the top left most beam\n",
    "# the third element would be the top left corner of the top right most beam\n",
    "# and the last element would be the top left corner of the bottom left most beam\n",
    "points = []\n",
    "\n",
    "def get_points(event, x, y, flags, param):\n",
    "    global points\n",
    "    if event == cv2.EVENT_LBUTTONDOWN:\n",
    "        points.append((x, y))\n",
    "        print(x, y)\n",
    "\n",
    "def undo_last_point():\n",
    "    global points\n",
    "    if len(points) > 0:\n",
    "        points.pop()\n",
    "\n",
    "cv2.namedWindow(\"image\", cv2.WINDOW_NORMAL)\n",
    "cv2.setMouseCallback(\"image\", get_points)  \n",
    "\n",
    "while True: \n",
    "    image_copy = image.copy()\n",
    "    for point in points:\n",
    "        cv2.point"
   ]
  }
 ],
 "metadata": {
  "kernelspec": {
   "display_name": "Python 3",
   "language": "python",
   "name": "python3"
  },
  "language_info": {
   "codemirror_mode": {
    "name": "ipython",
    "version": 3
   },
   "file_extension": ".py",
   "mimetype": "text/x-python",
   "name": "python",
   "nbconvert_exporter": "python",
   "pygments_lexer": "ipython3",
   "version": "3.12.3"
  }
 },
 "nbformat": 4,
 "nbformat_minor": 2
}
