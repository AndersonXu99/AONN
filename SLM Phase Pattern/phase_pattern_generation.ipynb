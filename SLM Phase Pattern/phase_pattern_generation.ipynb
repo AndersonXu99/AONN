{
 "cells": [
  {
   "cell_type": "code",
   "execution_count": 4,
   "metadata": {},
   "outputs": [],
   "source": [
    "import os\n",
    "# for getting file name form __file__\n",
    "\n",
    "import cv2\n",
    "# pip install opencv-python\n",
    "# for disply image\n",
    "# tested with (4.5.1.48) which used numpy (1.20.2)\n",
    "\n",
    "from screeninfo import get_monitors\n",
    "# pip install screeninfo\n",
    "# for getting monitor information"
   ]
  }
 ],
 "metadata": {
  "kernelspec": {
   "display_name": "Python 3",
   "language": "python",
   "name": "python3"
  },
  "language_info": {
   "codemirror_mode": {
    "name": "ipython",
    "version": 3
   },
   "file_extension": ".py",
   "mimetype": "text/x-python",
   "name": "python",
   "nbconvert_exporter": "python",
   "pygments_lexer": "ipython3",
   "version": "3.12.3"
  }
 },
 "nbformat": 4,
 "nbformat_minor": 2
}
